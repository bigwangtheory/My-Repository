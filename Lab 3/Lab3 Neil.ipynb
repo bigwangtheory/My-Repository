{
 "cells": [
  {
   "cell_type": "code",
   "execution_count": 109,
   "metadata": {},
   "outputs": [],
   "source": [
    "file=open('romeoandjuliet.txt','r')\n",
    "string=file.read()"
   ]
  },
  {
   "cell_type": "code",
   "execution_count": 110,
   "metadata": {},
   "outputs": [],
   "source": [
    "import matplotlib.pyplot as plt"
   ]
  },
  {
   "cell_type": "code",
   "execution_count": null,
   "metadata": {},
   "outputs": [],
   "source": []
  },
  {
   "cell_type": "code",
   "execution_count": 111,
   "metadata": {},
   "outputs": [],
   "source": [
    "import re"
   ]
  },
  {
   "cell_type": "code",
   "execution_count": 112,
   "metadata": {},
   "outputs": [],
   "source": [
    "no_punct_str=re.sub(r'[^\\w\\s]','',string)"
   ]
  },
  {
   "cell_type": "code",
   "execution_count": 113,
   "metadata": {},
   "outputs": [],
   "source": [
    "split_string=no_punct_str.split()"
   ]
  },
  {
   "cell_type": "code",
   "execution_count": 114,
   "metadata": {},
   "outputs": [],
   "source": [
    "split_string_lower=[]\n",
    "for x in range(len(split_string)):\n",
    "    split_string_lower.append(split_string[x].lower())"
   ]
  },
  {
   "cell_type": "code",
   "execution_count": 115,
   "metadata": {},
   "outputs": [],
   "source": [
    "unique_strings=(set(split_string_lower))"
   ]
  },
  {
   "cell_type": "code",
   "execution_count": 116,
   "metadata": {},
   "outputs": [],
   "source": [
    "freqs=[(item, split_string.count(item)) for item in unique_strings]"
   ]
  },
  {
   "cell_type": "code",
   "execution_count": 117,
   "metadata": {},
   "outputs": [],
   "source": [
    "dictionary=dict(freqs)"
   ]
  },
  {
   "cell_type": "code",
   "execution_count": 118,
   "metadata": {},
   "outputs": [
    {
     "data": {
      "image/png": "[encoded data removed]",
      "text/plain": [
       "<Figure size 432x288 with 1 Axes>"
      ]
     },
     "metadata": {},
     "output_type": "display_data"
    }
   ],
   "source": [
    "plt.bar(range(len(dictionary)), list(dictionary.values()), align='center')\n",
    "plt.xticks(range(len(dictionary)), list(dictionary.keys()))\n",
    "plt.show()"
   ]
  },
  {
   "cell_type": "code",
   "execution_count": 119,
   "metadata": {},
   "outputs": [],
   "source": [
    "for x in dictionary:\n",
    "    dictionary[x]=dictionary[x]+1"
   ]
  },
  {
   "cell_type": "code",
   "execution_count": 120,
   "metadata": {},
   "outputs": [
    {
     "name": "stdout",
     "output_type": "stream",
     "text": [
      "[('the', 604), ('I', 583), ('and', 483), ('to', 458), ('a', 402), ('of', 371), ('my', 310), ('is', 307), ('in', 285), ('that', 270)]\n"
     ]
    }
   ],
   "source": [
    "import collections\n",
    "most_common=collections.Counter(split_string).most_common(10)\n",
    "print(most_common)"
   ]
  },
  {
   "cell_type": "code",
   "execution_count": 125,
   "metadata": {},
   "outputs": [
    {
     "data": {
      "text/plain": [
       "\"The most common words are 'the', 'I','and','to','a','of','my','is','in', and 'that'. The least common words are shown below\""
      ]
     },
     "execution_count": 125,
     "metadata": {},
     "output_type": "execute_result"
    }
   ],
   "source": [
    "\"The most common words are 'the', 'I','and','to','a','of','my','is','in', and 'that'. The least common words are shown below\""
   ]
  },
  {
   "cell_type": "code",
   "execution_count": 122,
   "metadata": {},
   "outputs": [],
   "source": [
    "least_common_words=[]\n",
    "list_of_items=dictionary.items()\n",
    "for item in list_of_items:\n",
    "    if item[1]==1:\n",
    "        least_common_words.append(item[0])"
   ]
  },
  {
   "cell_type": "code",
   "execution_count": 123,
   "metadata": {},
   "outputs": [
    {
     "name": "stdout",
     "output_type": "stream",
     "text": [
      "['rebeck', 'environed', 'godigoden', 'greg', 'hero', 'forswear', 'prickd', 'tickle', 'mercutio', 'bearing', 'potpan', 'eve', 'cynthias', 'iii', 'checkring', 'prodigious', 'killing', 'apoth', 'grindstone', 'shakespeare', 'whiter', 'anselmo', 'citizen', 'famine', 'helena', 'utter', 'couple', 'titans', 'wives', 'retorts', 'pet', 'yes', 'attendants', 'maria', 'vi', 'meantime', 'ethiops', 'gorgd', 'lays', 'alla', 'laur', 'susan', 'hugh', 'graze', 'peter', 'henceforward', 'laurence', 'perhaps', 'abram', 'laurences', 'accursd', 'sailing', 'gods', 'unplagud', 'although', 'countys', 'abate', 'whither', 'sups', 'james', 'lammas', 'whereto', 'queen', 'sovereign', 'mantuas', 'borrow', 'catling', 'simon', 'francis', 'retires', 'sampson', 'subtilly', 'm', 'muffle', 'stillwaking', 'tybalts', 'displant', 'unfold', 'tickling', 'receive', 'serv', 'montage', 'helen', 'par', 'hunting', 'cupid', 'escalus', 'byr', 'retain', 'lucio', 'prudence', 'rosalines', 'mer', 'peters', 'oercoverd', 'cleopatra', 'laura', 'throw', 'thursday', 'cap', 'scaring', 'clown', 'dido', 'meagre', 'evermore', 'peerd', 'together', 'exeunt', 'john', 'adam', 'anthony', 'unseemly', 'smatter', 'straining', 'despisd', 'tut', 'staying', 'valentio', 'eastern', 'lifts', 'benedicite', 'iv', 'phaeton', 'drums', 'forgetting', 'easter', 'ascend', 'whistle', 'mantua', 'maintains', 'phoebus', 'uneven', 'inherit', 'ii', 'earthtreading', 'manent', 'valentine', 'maskers', 'holding', 'mercutios', 'april', 'profaners', 'spare', 'examine', 'chief', 'spakest', 'murderd', 'william', 'v', 'throws', 'haply', 'statue', 'followers', 'athwart', 'bondage', 'chorus', 'cophetua', 'parting', 'zounds', 'mon', 'sojourn', 'tybalt', 'cats', 'watchmen', 'petrarch', 'calling', 'remembring', 'perchance', 'tartars', 'non', 'vitruvio', 'playd', 'auroras', 'servingmen', 'pages', 'yea', 'italy', 'betrothd', 'romeo', 'lammastide', 'whateer', 'just', 'proportiond', 'whippd', 'misshapen', 'blisterd', 'culling', 'juliet', 'transparent', 'sceneverona', 'jule', 'capulet', 'mistlike', 'dramatis', 'rosaline', 'guards', 'rom', 'ties', 'balthasar', 'pentecost', 'adversitys', 'torchbearers', 'returnd', 'jesu', 'county', 'twould', 'remnants', 'virtue', 'revive', 'taking', 'contempt', 'snatches', 'gallop', 'freetown', 'theyll', 'christian', 'watchman', 'king', 'torments', 'seeking', 'south', 'noting', 'livia', 'dun', 'east', 'spanish', 'echo', 'servingman', 'tempring', 'gentlewomen', 'whos', 'jove', 'tush', 'suspecting', 'courage', 'jul', 'train', 'signior', 'abr', 'mab', 'belonging', 'capels', 'pursuing', 'poorjohn', 'petruchio', 'cuts', 'placentio', 'affliction', 'tragedy', 'soundpost', 'franciscan', 'monday', 'bal', 'feather', 'beautiful', 'tiberio', 'martino', 'samp', 'north', 'nell', 'angelica', 'west', 'howling', 'immoderately', 'personae', 'dians', 'lucentio', 'venus', 'climbs', 'cheerly', 'ben', 'revolts', 'paris', 'exit', 'direct', 'benvolio', 'begot', 'wednesday', 'romeos', 'capulets', 'verona', 'adding', 'pariss', 'acquaint', 'younger', 'tyb', 'mus', 'french', 'miscarried', 'uncomfortable', 'blubbring', 'cupids', 'driving', 'winter', 'montague', 'montagues', 'rebellious', 'godden', 'juliets', 'r', 'chor', 'scurvy', 'digressing', 'unwieldy', 'veronas', 'gregory', 'dovefeatherd']\n"
     ]
    }
   ],
   "source": [
    "print(least_common_words)"
   ]
  },
  {
   "cell_type": "code",
   "execution_count": null,
   "metadata": {},
   "outputs": [],
   "source": []
  },
  {
   "cell_type": "code",
   "execution_count": null,
   "metadata": {},
   "outputs": [],
   "source": []
  }
 ],
 "metadata": {
  "kernelspec": {
   "display_name": "Python 3",
   "language": "python",
   "name": "python3"
  },
  "language_info": {
   "codemirror_mode": {
    "name": "ipython",
    "version": 3
   },
   "file_extension": ".py",
   "mimetype": "text/x-python",
   "name": "python",
   "nbconvert_exporter": "python",
   "pygments_lexer": "ipython3",
   "version": "3.5.2"
  }
 },
 "nbformat": 4,
 "nbformat_minor": 2
}
