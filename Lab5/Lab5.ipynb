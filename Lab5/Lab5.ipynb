{
 "cells": [
  {
   "cell_type": "code",
   "execution_count": 53,
   "metadata": {},
   "outputs": [],
   "source": [
    "yes1=\"GGGCGACCCUGAUGAGCUUGAGUUUAGCUCGUCACUGUCCAGGUUCAAUCAGGCGAAACGGUGAAAGCCGUAGGUUGCCC\"\n",
    "not1=\"GGCAGGUACAUACAGCUGAUGAGUCCCAAAUAGGACGAAACGCGACACACACCACUAAACCGUGCAGUGUUUUGCGUCCUGUAUUCCACUGC\"\n",
    "and1='GGGCGACCCUGAUGAGCUUGGUUUAGUAUUUACAGCUCCAUACAUGAGGUGUUAUCCCUAUGCAAGUUCGAUCAGGCGAAACGGUGAAAGCCGUAGGUUGCCCAGAGACAAU'\n",
    "or1='GGGCGACCCUGAUGAGCUUGGUUGAGUAUUUACAGCACCAUACAUGAGGUGUUCUCCCUACGCAAGUUCGAUCAGGCGAAACGGUGAAAGCCGUAGGUUGCCC'"
   ]
  },
  {
   "cell_type": "markdown",
   "metadata": {},
   "source": [
    "![image](Table.png)"
   ]
  },
  {
   "cell_type": "code",
   "execution_count": null,
   "metadata": {},
   "outputs": [],
   "source": []
  },
  {
   "cell_type": "code",
   "execution_count": 55,
   "metadata": {},
   "outputs": [
    {
     "name": "stdout",
     "output_type": "stream",
     "text": [
      "\n",
      ">yes1\n",
      "GGGCGACCCUGAUGAGCUUGAGUUUAGCUCGUCACUGUCCAGGUUCAAUCAGGCGAAACGGUGAAAGCCGUAGGUUGCCC\n",
      "((((((((.(((((((((.......))))))))).((.((.(((...))).))))..(((((....))))).)))))))) (-33.00)\n",
      ">not1\n",
      "GGCAGGUACAUACAGCUGAUGAGUCCCAAAUAGGACGAAACGCGACACACACCACUAAACCGUGCAGUGUUUUGCGUCCUGUAUUCCACUGC\n",
      ".((((....((((((.......((((......))))...((((((.((((..(((......)))..)))).)))))).))))))....)))) (-28.10)\n",
      ">and1\n",
      "GGGCGACCCUGAUGAGCUUGGUUUAGUAUUUACAGCUCCAUACAUGAGGUGUUAUCCCUAUGCAAGUUCGAUCAGGCGAAACGGUGAAAGCCGUAGGUUGCCCAGAGACAAU\n",
      "((((((((((((((((((((...(((.....(((.(((.......))).))).....)))..))))))).))))).....(((((....))))).))))))))......... (-42.10)\n",
      ">or1\n",
      "GGGCGACCCUGAUGAGCUUGGUUGAGUAUUUACAGCACCAUACAUGAGGUGUUCUCCCUACGCAAGUUCGAUCAGCGGAAACGGUGAAAGCCGUAGGUUGCCC\n",
      "((((((((((((((((((((((.(((.......((((((........)))))))))...)).))))))).))))).....(((((....))))).)))))))) (-40.90)\n",
      "\n"
     ]
    }
   ],
   "source": [
    "import subprocess\n",
    "seqs=\\\n",
    "\"\"\">yes1\n",
    "GGGCGACCCUGAUGAGCUUGAGUUUAGCUCGUCACUGUCCAGGUUCAAUCAGGCGAAACGGUGAAAGCCGUAGGUUGCCC\n",
    ">not1\n",
    "GGCAGGUACAUACAGCUGAUGAGUCCCAAAUAGGACGAAACGCGACACACACCACUAAACCGUGCAGUGUUUUGCGUCCUGUAUUCCACUGC\n",
    ">and1\n",
    "GGGCGACCCUGAUGAGCUUGGUUUAGUAUUUACAGCUCCAUACAUGAGGUGUUAUCCCUAUGCAAGUUCGAUCAGGCGAAACGGUGAAAGCCGUAGGUUGCCCAGAGACAAU\n",
    ">or1\n",
    "GGGCGACCCUGAUGAGCUUGGUUGAGUAUUUACAGCACCAUACAUGAGGUGUUCUCCCUACGCAAGUUCGAUCAGCGGAAACGGUGAAAGCCGUAGGUUGCCC\n",
    "\n",
    "@\n",
    "\"\"\"\n",
    "p=subprocess.run(['RNAfold'],input=bytes(seqs,'ascii'),stdout=subprocess.PIPE,stderr=subprocess.PIPE)\n",
    "\n",
    "print(p.stderr.decode())\n",
    "print(p.stdout.decode())"
   ]
  },
  {
   "cell_type": "markdown",
   "metadata": {},
   "source": [
    "# Yes1 Structure"
   ]
  },
  {
   "cell_type": "markdown",
   "metadata": {},
   "source": [
    "![image](yes1.png)"
   ]
  },
  {
   "cell_type": "markdown",
   "metadata": {},
   "source": [
    "# Not1 Structure"
   ]
  },
  {
   "cell_type": "markdown",
   "metadata": {},
   "source": [
    "![image](not1.png)"
   ]
  },
  {
   "cell_type": "markdown",
   "metadata": {},
   "source": [
    "# And1 Structure"
   ]
  },
  {
   "cell_type": "markdown",
   "metadata": {},
   "source": [
    "![image](and1.png)"
   ]
  },
  {
   "cell_type": "markdown",
   "metadata": {},
   "source": [
    "# Or1 Structure"
   ]
  },
  {
   "cell_type": "markdown",
   "metadata": {},
   "source": [
    "![image](or1.png)"
   ]
  },
  {
   "cell_type": "markdown",
   "metadata": {},
   "source": [
    "(1). For YES-1, the structure generated from RNAfold does not completely match with the structure given in the paper. The structure generated shares one loop with the structure in the paper, specifically the loop from bp 58 to 72. However, the other loops generated are different. Furthermore, the red regions are not bound to each other. In the paper, the authors state that some alternative structures are possible, that preclude the formation of stem 2, so they did not include those structures. In addition, the parameters used in the software used in the paper and RNAfold are likely partially different, which explains why the resulting structures are different as well. Also, the paper uses conditions at 23C, whereas RNAfold likely uses 37C. These different temperatures can affect the thermodynamic stability of RNA folding, which could lead to different structures. \n",
    "\n",
    "For NOT-1, the generated structure is almost identical to the structure in the paper. The loops at bp 30 and 60 are present in both structures, as are the foldback structure I, II, and III. The red regions are bound in the generated structure as well. \n",
    "\n",
    "For AND-1, the generated structure is almost identical to the structure in the paper. The loops at bp 30, 40 and 90 are present in both structures, as are the foldback structure I, III, and IV. The red regions are not bound in the generated structure, nor are they bound in the structure in the paper. \n",
    "\n",
    "For OR-1, the generated structure is almost identical to the structure in the paper. The loops at bp 30, 40, 60 and 90 are present in both structures, as are the foldback structure I, III, and IV. The red regions are not bound in neither the structure in the paper, nor the generated structure. "
   ]
  },
  {
   "cell_type": "code",
   "execution_count": 56,
   "metadata": {},
   "outputs": [
    {
     "data": {
      "text/plain": [
       "'.........................xxxxxxxxxxxxxxxxxxxxxx.................................'"
      ]
     },
     "execution_count": 56,
     "metadata": {},
     "output_type": "execute_result"
    }
   ],
   "source": [
    "yes1_constraints_list=[]\n",
    "for x in range(len(yes1)):\n",
    "    if x<25 or x>46:\n",
    "        yes1_constraints_list.append('.')\n",
    "    else:\n",
    "        yes1_constraints_list.append('x')\n",
    "yes1_constraints=''.join(yes1_constraints_list)\n",
    "textfile = open('yes1_constraints.txt', 'w')\n",
    "textfile.write(yes1_constraints)\n",
    "textfile.close()\n",
    "yes1_constraints"
   ]
  },
  {
   "cell_type": "code",
   "execution_count": 57,
   "metadata": {},
   "outputs": [
    {
     "data": {
      "text/plain": [
       "'...........................................xxxxxxxxxxxxxxxxxxxxxxx..........................'"
      ]
     },
     "execution_count": 57,
     "metadata": {},
     "output_type": "execute_result"
    }
   ],
   "source": [
    "not1_constraints_list=[]\n",
    "for x in range(len(not1)):\n",
    "    if x<43 or x>65:\n",
    "        not1_constraints_list.append('.')\n",
    "    else:\n",
    "        not1_constraints_list.append('x')\n",
    "not1_constraints=''.join(not1_constraints_list)\n",
    "textfile = open('not1_constraints.txt', 'w')\n",
    "textfile.write(not1_constraints)\n",
    "textfile.close()\n",
    "not1_constraints"
   ]
  },
  {
   "cell_type": "code",
   "execution_count": 58,
   "metadata": {},
   "outputs": [
    {
     "name": "stdout",
     "output_type": "stream",
     "text": [
      "\n",
      ">yes1_constraints\n",
      "GGGCGACCCUGAUGAGCUUGAGUUUAGCUCGUCACUGUCCAGGUUCAAUCAGGCGAAACGGUGAAAGCCGUAGGUUGCCC\n",
      "((((((((.......((((((...........................))))))...(((((....))))).)))))))) (-24.50)\n",
      "\n"
     ]
    }
   ],
   "source": [
    "import subprocess\n",
    "seqs=\\\n",
    "\"\"\">yes1_constraints\n",
    "GGGCGACCCUGAUGAGCUUGAGUUUAGCUCGUCACUGUCCAGGUUCAAUCAGGCGAAACGGUGAAAGCCGUAGGUUGCCC\n",
    ".........................xxxxxxxxxxxxxxxxxxxxxx.................................\n",
    "\n",
    "@\n",
    "\"\"\"\n",
    "p=subprocess.run(['RNAfold','-C'],input=bytes(seqs,'ascii'),stdout=subprocess.PIPE,stderr=subprocess.PIPE)\n",
    "\n",
    "print(p.stderr.decode())\n",
    "print(p.stdout.decode())"
   ]
  },
  {
   "cell_type": "code",
   "execution_count": 59,
   "metadata": {},
   "outputs": [
    {
     "name": "stdout",
     "output_type": "stream",
     "text": [
      "\n",
      ">not1_constraints\n",
      "GGCAGGUACAUACAGCUGAUGAGUCCCAAAUAGGACGAAACGCGACACACACCACUAAACCGUGCAGUGUUUUGCGUCCUGUAUUCCACUGC\n",
      ".((((....((((((..((((.((((......))))(((((((.......................))))))).))))))))))....)))) (-20.80)\n",
      "\n"
     ]
    }
   ],
   "source": [
    "import subprocess\n",
    "seqs=\\\n",
    "\"\"\">not1_constraints\n",
    "GGCAGGUACAUACAGCUGAUGAGUCCCAAAUAGGACGAAACGCGACACACACCACUAAACCGUGCAGUGUUUUGCGUCCUGUAUUCCACUGC\n",
    "...........................................xxxxxxxxxxxxxxxxxxxxxxx..........................\n",
    "@\n",
    "\"\"\"\n",
    "\n",
    "p=subprocess.run(['RNAfold','-C'],input=bytes(seqs,'ascii'),stdout=subprocess.PIPE,stderr=subprocess.PIPE)\n",
    "\n",
    "print(p.stderr.decode())\n",
    "print(p.stdout.decode())"
   ]
  },
  {
   "cell_type": "markdown",
   "metadata": {},
   "source": [
    "# YES-1 Constraints"
   ]
  },
  {
   "cell_type": "markdown",
   "metadata": {},
   "source": [
    "![image](yes1_contraints.png)"
   ]
  },
  {
   "cell_type": "markdown",
   "metadata": {},
   "source": [
    "# NOT-1 Constraints"
   ]
  },
  {
   "cell_type": "markdown",
   "metadata": {},
   "source": [
    "![image](not1_constraints.png)"
   ]
  },
  {
   "cell_type": "markdown",
   "metadata": {},
   "source": [
    "(2). For YES-1, the generated structure with OBS binding is identical to the structure shown in the paper. It looks like the self-cleaving form shown in the paper, with the red regions base paired together.\n",
    "\n",
    "For NOT-1, the generated structure with OBS binding is identical to the structure shown in the paper. The red regions are not bound to each other, just like in the paper. "
   ]
  },
  {
   "cell_type": "code",
   "execution_count": 60,
   "metadata": {
    "scrolled": true
   },
   "outputs": [
    {
     "name": "stdout",
     "output_type": "stream",
     "text": [
      "................................................xxxxxxxxxxxxxxxx................................................\n",
      ".............................xxxxxxxxxxxxxxxx...................................................................\n",
      ".............................xxxxxxxxxxxxxxxx...xxxxxxxxxxxxxxxx................................................\n"
     ]
    }
   ],
   "source": [
    "and1TF_constraints_list=[]\n",
    "for x in range(len(and1)):\n",
    "    if x<29 or x>44:\n",
    "        and1TF_constraints_list.append('.')\n",
    "    else:\n",
    "        and1TF_constraints_list.append('x')\n",
    "and1TF_constraints=''.join(and1TF_constraints_list)\n",
    "textfile = open('and1TF_constraints.txt', 'w')\n",
    "textfile.write(and1TF_constraints)\n",
    "textfile.close()\n",
    "\n",
    "and1FT_constraints_list=[]\n",
    "for x in range(len(and1)):\n",
    "    if x<48 or x>63:\n",
    "        and1FT_constraints_list.append('.')\n",
    "    else:\n",
    "        and1FT_constraints_list.append('x')\n",
    "and1FT_constraints=''.join(and1FT_constraints_list)\n",
    "textfile = open('and1FT_constraints.txt', 'w')\n",
    "textfile.write(and1FT_constraints)\n",
    "textfile.close()\n",
    "\n",
    "and1TT_constraints_list=[]\n",
    "for x in range(len(and1)):\n",
    "    if (x>=29 and x<=44) or (x>=48 and x<=63):\n",
    "        and1TT_constraints_list.append('x')\n",
    "    else:\n",
    "        and1TT_constraints_list.append('.')\n",
    "and1TT_constraints=''.join(and1TT_constraints_list)\n",
    "textfile = open('and1TT_constraints.txt', 'w')\n",
    "textfile.write(and1TT_constraints)\n",
    "textfile.close()\n",
    "print(and1FT_constraints)\n",
    "print(and1TF_constraints)\n",
    "print(and1TT_constraints)"
   ]
  },
  {
   "cell_type": "code",
   "execution_count": 61,
   "metadata": {},
   "outputs": [
    {
     "name": "stdout",
     "output_type": "stream",
     "text": [
      "..............................................xxxxxxxxxxxxxxxxxxxx.....................................\n",
      "..........................xxxxxxxxxxxxxxxxxxxx.........................................................\n",
      "..........................xxxxxxxxxxxxxxxxxxxxxxxxxxxxxxxxxxxxxxxx.....................................\n"
     ]
    }
   ],
   "source": [
    "or1TF_constraints_list=[]\n",
    "for x in range(len(or1)):\n",
    "    if x<26 or x>45:\n",
    "        or1TF_constraints_list.append('.')\n",
    "    else:\n",
    "        or1TF_constraints_list.append('x')\n",
    "or1TF_constraints=''.join(or1TF_constraints_list)\n",
    "textfile = open('or1TF_constraints.txt', 'w')\n",
    "textfile.write(or1TF_constraints)\n",
    "textfile.close()\n",
    "\n",
    "or1FT_constraints_list=[]\n",
    "for x in range(len(or1)):\n",
    "    if x<46 or x>65:\n",
    "        or1FT_constraints_list.append('.')\n",
    "    else:\n",
    "        or1FT_constraints_list.append('x')\n",
    "or1FT_constraints=''.join(or1FT_constraints_list)\n",
    "textfile = open('or1FT_constraints.txt', 'w')\n",
    "textfile.write(or1FT_constraints)\n",
    "textfile.close()\n",
    "\n",
    "or1TT_constraints_list=[]\n",
    "for x in range(len(or1)):\n",
    "    if (x>=26 and x<=45) or (x>=46 and x<=65):\n",
    "        or1TT_constraints_list.append('x')\n",
    "    else:\n",
    "        or1TT_constraints_list.append('.')\n",
    "or1TT_constraints=''.join(or1TT_constraints_list)\n",
    "textfile = open('or1TT_constraints.txt', 'w')\n",
    "textfile.write(or1TT_constraints)\n",
    "textfile.close()\n",
    "print(or1FT_constraints)\n",
    "print(or1TF_constraints)\n",
    "print(or1TT_constraints)"
   ]
  },
  {
   "cell_type": "code",
   "execution_count": 62,
   "metadata": {},
   "outputs": [
    {
     "name": "stdout",
     "output_type": "stream",
     "text": [
      "\n",
      ">and1FT_constraints\n",
      "GGGCGACCCUGAUGAGCUUGGUUUAGUAUUUACAGCUCCAUACAUGAGGUGUUAUCCCUAUGCAAGUUCGAUCAGGCGAAACGGUGAAAGCCGUAGGUUGCCCAGAGACAAU\n",
      "(((((((((((((((((((((...(((.......))))))........................))))).))))).....(((((....))))).))))))))......... (-29.60)\n",
      ">and1TF_constraints\n",
      "GGGCGACCCUGAUGAGCUUGGUUUAGUAUUUACAGCUCCAUACAUGAGGUGUUAUCCCUAUGCAAGUUCGAUCAGGCGAAACGGUGAAAGCCGUAGGUUGCCCAGAGACAAU\n",
      "((((((((((((((((((((..........................(((.(....))))...))))))).))))).....(((((....))))).))))))))......... (-33.90)\n",
      ">and1TT_constraints\n",
      "GGGCGACCCUGAUGAGCUUGGUUUAGUAUUUACAGCUCCAUACAUGAGGUGUUAUCCCUAUGCAAGUUCGAUCAGGCGAAACGGUGAAAGCCGUAGGUUGCCCAGAGACAAU\n",
      "((((((((((((((((((..............................................))))).))))).....(((((....))))).))))))))......... (-27.64)\n",
      "\n"
     ]
    }
   ],
   "source": [
    "import subprocess\n",
    "seqs=\\\n",
    "\"\"\">and1FT_constraints\n",
    "GGGCGACCCUGAUGAGCUUGGUUUAGUAUUUACAGCUCCAUACAUGAGGUGUUAUCCCUAUGCAAGUUCGAUCAGGCGAAACGGUGAAAGCCGUAGGUUGCCCAGAGACAAU\n",
    "................................................xxxxxxxxxxxxxxxx................................................\n",
    "\n",
    ">and1TF_constraints\n",
    "GGGCGACCCUGAUGAGCUUGGUUUAGUAUUUACAGCUCCAUACAUGAGGUGUUAUCCCUAUGCAAGUUCGAUCAGGCGAAACGGUGAAAGCCGUAGGUUGCCCAGAGACAAU\n",
    ".............................xxxxxxxxxxxxxxxx...................................................................\n",
    "\n",
    ">and1TT_constraints\n",
    "GGGCGACCCUGAUGAGCUUGGUUUAGUAUUUACAGCUCCAUACAUGAGGUGUUAUCCCUAUGCAAGUUCGAUCAGGCGAAACGGUGAAAGCCGUAGGUUGCCCAGAGACAAU\n",
    ".............................xxxxxxxxxxxxxxxx...xxxxxxxxxxxxxxxx................................................\n",
    "\n",
    "@\n",
    "\"\"\"\n",
    "\n",
    "p=subprocess.run(['RNAfold','-C'],input=bytes(seqs,'ascii'),stdout=subprocess.PIPE,stderr=subprocess.PIPE)\n",
    "\n",
    "print(p.stderr.decode())\n",
    "print(p.stdout.decode())"
   ]
  },
  {
   "cell_type": "code",
   "execution_count": 63,
   "metadata": {},
   "outputs": [
    {
     "name": "stdout",
     "output_type": "stream",
     "text": [
      "\n",
      ">or1FT_constraints\n",
      "GGGCGACCCUGAUGAGCUUGGUUGAGUAUUUACAGCACCAUACAUGAGGUGUUCUCCCUACGCAAGUUCGAUCAGGCGAAACGGUGAAAGCCGUAGGUUGCCC\n",
      "((((((((.......(((((((((((........................................)))))))))))...(((((....))))).)))))))) (-29.09)\n",
      ">or1TF_constraints\n",
      "GGGCGACCCUGAUGAGCUUGGUUGAGUAUUUACAGCACCAUACAUGAGGUGUUCUCCCUACGCAAGUUCGAUCAGGCGAAACGGUGAAAGCCGUAGGUUGCCC\n",
      "((((((((((((((((((((((.(((...........................)))...)).))))))).))))).....(((((....))))).)))))))) (-34.20)\n",
      ">or1TT_constraints\n",
      "GGGCGACCCUGAUGAGCUUGGUUGAGUAUUUACAGCACCAUACAUGAGGUGUUCUCCCUACGCAAGUUCGAUCAGGCGAAACGGUGAAAGCCGUAGGUUGCCC\n",
      "((((((((.......(((((((((((........................................)))))))))))...(((((....))))).)))))))) (-29.09)\n",
      "\n"
     ]
    }
   ],
   "source": [
    "import subprocess\n",
    "seqs=\\\n",
    "\"\"\">or1FT_constraints\n",
    "GGGCGACCCUGAUGAGCUUGGUUGAGUAUUUACAGCACCAUACAUGAGGUGUUCUCCCUACGCAAGUUCGAUCAGGCGAAACGGUGAAAGCCGUAGGUUGCCC\n",
    "..............................................xxxxxxxxxxxxxxxxxxxx.....................................\n",
    "\n",
    ">or1TF_constraints\n",
    "GGGCGACCCUGAUGAGCUUGGUUGAGUAUUUACAGCACCAUACAUGAGGUGUUCUCCCUACGCAAGUUCGAUCAGGCGAAACGGUGAAAGCCGUAGGUUGCCC\n",
    "..........................xxxxxxxxxxxxxxxxxxxx.........................................................\n",
    "\n",
    ">or1TT_constraints\n",
    "GGGCGACCCUGAUGAGCUUGGUUGAGUAUUUACAGCACCAUACAUGAGGUGUUCUCCCUACGCAAGUUCGAUCAGGCGAAACGGUGAAAGCCGUAGGUUGCCC\n",
    "..........................xxxxxxxxxxxxxxxxxxxxxxxxxxxxxxxxxxxxxxxx.....................................\n",
    "\n",
    "@\n",
    "\"\"\"\n",
    "\n",
    "p=subprocess.run(['RNAfold','-C'],input=bytes(seqs,'ascii'),stdout=subprocess.PIPE,stderr=subprocess.PIPE)\n",
    "\n",
    "print(p.stderr.decode())\n",
    "print(p.stdout.decode())"
   ]
  },
  {
   "cell_type": "markdown",
   "metadata": {},
   "source": [
    "![image](Table2.png)"
   ]
  },
  {
   "cell_type": "markdown",
   "metadata": {},
   "source": [
    "In the above table, output also shows if the red regions are bound. 0 implies the red region is NOT bound, and 1 implies the red region is bound."
   ]
  },
  {
   "cell_type": "markdown",
   "metadata": {},
   "source": [
    "According to my results, the and-1 and or-1 gates do not completely work as specified. When And-1 has oligos bound to both OBS, the output is still 0, when it should be 1. And when Or-1 has an oligo bound to only OBS-1, the output is still 0, when it should be 1. Again, these results will vary depending on the software used to model RNA folding. "
   ]
  },
  {
   "cell_type": "code",
   "execution_count": null,
   "metadata": {},
   "outputs": [],
   "source": []
  }
 ],
 "metadata": {
  "kernelspec": {
   "display_name": "Python 3",
   "language": "python",
   "name": "python3"
  },
  "language_info": {
   "codemirror_mode": {
    "name": "ipython",
    "version": 3
   },
   "file_extension": ".py",
   "mimetype": "text/x-python",
   "name": "python",
   "nbconvert_exporter": "python",
   "pygments_lexer": "ipython3",
   "version": "3.6.5"
  }
 },
 "nbformat": 4,
 "nbformat_minor": 2
}
