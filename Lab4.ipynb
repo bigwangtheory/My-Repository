{
 "cells": [
  {
   "cell_type": "code",
   "execution_count": 49,
   "metadata": {},
   "outputs": [],
   "source": [
    "import sqlite3\n",
    "conn=sqlite3.connect('Lab4-131.db')\n",
    "c=conn.cursor()"
   ]
  },
  {
   "cell_type": "code",
   "execution_count": null,
   "metadata": {},
   "outputs": [],
   "source": []
  },
  {
   "cell_type": "code",
   "execution_count": 50,
   "metadata": {},
   "outputs": [
    {
     "data": {
      "text/plain": [
       "<sqlite3.Cursor at 0x7f3df5f818f0>"
      ]
     },
     "execution_count": 50,
     "metadata": {},
     "output_type": "execute_result"
    }
   ],
   "source": [
    "c.execute(\"\"\"CREATE TABLE genes (name TEXT, description TEXT, nucleotide_seq TEXT, length TEXT);\"\"\")\n",
    "c.execute(\"\"\"CREATE TABLE pathway (name TEXT, enzymes TEXT);\"\"\")\n",
    "c.execute(\"\"\"CREATE TABLE enzyme(name TEXT, EC TEXT, function TEXT, pathway TEXT,organism TEXT, gene TEXT);\"\"\")"
   ]
  },
  {
   "cell_type": "code",
   "execution_count": 51,
   "metadata": {},
   "outputs": [
    {
     "data": {
      "text/plain": [
       "'JW0987'"
      ]
     },
     "execution_count": 51,
     "metadata": {},
     "output_type": "execute_result"
    }
   ],
   "source": [
    "from Bio.KEGG import REST\n",
    "from Bio.KEGG import Enzyme\n",
    "from Bio.KEGG import Gene\n",
    "request=REST.kegg_get(\"ec:3.1.3.10\")\n",
    "open(\"ec_3.1.3.10.txt\",'w').write(request.read())\n",
    "records=Enzyme.parse(open(\"ec_3.1.3.10.txt\"))\n",
    "record = list(records)[0]\n",
    "for x in range(len(record.genes)):\n",
    "    if record.genes[x][0]=='ECJ':\n",
    "        eco_gene=record.genes[x][1][0]\n",
    "eco_gene"
   ]
  },
  {
   "cell_type": "code",
   "execution_count": 52,
   "metadata": {},
   "outputs": [
    {
     "name": "stdout",
     "output_type": "stream",
     "text": [
      "ATGCTGTCCCGGTCCCGCTGTGTGTCTCGGGCGTTCAGCCGCTCGCTCTCCGCCTTCCAGAAGGGGAACTGCCCTCTAGGGAGACGTTCCCTGCCTGGGGTCTCCTTATGCCAGGGACCAGGTTACCCTAACAGCAGGAAGGTTGTCATTAACAACAGTGTCTTCAGTGTTCGCTTTTTCAGAACTACAGCTGTATGCAAGGATGACTTGGTTACAGTCAAAACCCCAGCGTTTGCAGAATCTGTCACAGAGGGAGATGTCAGGTGGGAGAAAGCTGTTGGAGACACAGTTGCAGAAGATGAAGTGGTTTGTGAGATTGAAACTGACAAGACATCTGTGCAGGTTCCATCACCAGCAAATGGCGTGATTGAAGCTCTTTTGGTACCTGATGGGGGAAAAGTCGAAGGAGGCACTCCACTTTTCACACTCAGGAAAACTGGTGCTGCTCCTGCTAAGGCCAAGCCGGCTGAAGCTCCTGCTGCTGCAACCCCAAAAGCAGAACCTACAGCAGCGGCAGTTCCTCCCCCTGCAGCACCCATACCCACTCAGATGCCACCGGTGCCCTCGCCCTCACAACCTCCTTCTGGCAAACCTGTGTCTGCAGTAAAACCCACTGTTGCCCCACCACTAGCTGAGCCAGGAGCTGGCAAAGGTCTGCGTTCAGAACATCGGGAGAAAATGAACAGGATGCGGCAGCGCATTGCTCAGCGTCTGAAGGAGGCCCAGAATACATGTGCAATGCTGACAACTTTTAATGAGATTGACATGAGTAACATCCAGGAGATGAGGGCTCGGCACAAAGAGGCTTTTTTGAAGAAACATAACCTCAAACTAGGCTTCATGTCGGCATTTGTGAAGGCCTCAGCCTTTGCCTTGCAGGAACAGCCTGTTGTAAATGCAGTGATTGACGACACAACCAAAGAGGTGGTGTATAGGGATTATATTGACATCAGTGTTGCAGTGGCCACCCCACGGGGTCTGGTGGTTCCAGTCATCAGGAATGTGGAAGCTATGAATTTTGCAGATATTGAACGGACCATCACTGAACTGGGAGAGAAGGCCCGAAAGAATGAACTTGCCATTGAAGATATGGATGGCGGTACCTTCACCATTAGCAATGGAGGCGTTTTTGGCTCGCTCTTTGGAACACCCATTATCAACCCCCCTCAGTCTGCCATCCTGGGGATGCATGGCATCTTTGACAGGCCAGTGGCTATAGGAGGCAAGGTAGAGGTGCGGCCCATGATGTACGTGGCACTGACCTATGATCACCGGCTGATTGATGGCAGAGAGGCTGTGACTTTCCTCCGCAAAATCAAGGCAGCGGTAGAGGATCCCAGAGTCCTCCTCTTTGATCTTTAA\n"
     ]
    }
   ],
   "source": [
    "from Bio import SeqIO\n",
    "from Bio import Entrez\n",
    "Entrez.email='neilwang@berkeley.edu'\n",
    "handle=Entrez.esearch(db='nucleotide',term='homo sapiens[ORGN] DLST',sort='relevance',idtype='acc')\n",
    "for i in Entrez.read(handle)['IdList']:\n",
    "        handle=Entrez.efetch(db='nucleotide',id=i, rettype='fasta',retmode='text')\n",
    "        break\n",
    "for record in SeqIO.parse(handle,'fasta'):\n",
    "    print(record.seq)"
   ]
  },
  {
   "cell_type": "code",
   "execution_count": 1,
   "metadata": {},
   "outputs": [
    {
     "name": "stdout",
     "output_type": "stream",
     "text": [
      "I searched for enzymes that had genes in all 3 organisms (some enzymes were only present in some of the 3 organisms)\n"
     ]
    }
   ],
   "source": [
    "EC_list=['5.1.3.3','5.3.1.9','5.4.2.2','4.1.2.13','2.7.1.165','3.1.1.31','5.1.3.1','2.2.1.1','1.1.1.42','1.2.4.2','1.5.1.3','2.3.1.61']\n",
    "print(\"I searched for enzymes that had genes in all 3 organisms (some enzymes were only present in some of the 3 organisms)\")"
   ]
  },
  {
   "cell_type": "code",
   "execution_count": 54,
   "metadata": {},
   "outputs": [],
   "source": [
    "for x in EC_list:\n",
    "    x1=\"\\'\"+x+\"\\'\"\n",
    "    request_enz=REST.kegg_get(\"ec:\" + x)\n",
    "    open(\"ec_\"+x+'.txt','w').write(request_enz.read())\n",
    "    records_enz=Enzyme.parse(open(\"ec_\"+x+'.txt'))\n",
    "    record_enz=list(records_enz)[0]\n",
    "    c.execute(\"\"\"INSERT INTO pathway (name, enzymes) \n",
    "                VALUES (\\'\"\"\" + record_enz.pathway[0][2]+\"\\', \"+x1+');')\n",
    "    for y in range(len(record_enz.genes)):\n",
    "        if record_enz.genes[y][0]=='ECO':\n",
    "            eco_gene=record_enz.genes[y][1][0]\n",
    "            break\n",
    "    c.execute(\"\"\"INSERT INTO enzyme (name, EC, function, pathway, organism, gene)\n",
    "                VALUES (\\'\"\"\"+record_enz.name[0]+'\\', '+x1+', \\''+str(record_enz.reaction[0])+'\\', \\''+record_enz.pathway[0][2]+\"\\', 'Escherichia coli', \\'\"+eco_gene+'\\');')\n",
    "    Entrez.email='neilwang@berkeley.edu'\n",
    "    handle=Entrez.esearch(db='nucleotide',term='Escherichia coli[ORGN] '+eco_gene,sort='relevance',idtype='acc')\n",
    "    for i in Entrez.read(handle)['IdList']:\n",
    "            handle=Entrez.efetch(db='nucleotide',id=i, rettype='fasta',retmode='text')\n",
    "            break\n",
    "    for record in SeqIO.parse(handle,'fasta'):\n",
    "        eco_seq=record.seq\n",
    "    c.execute(\"\"\"INSERT INTO genes(name, description, nucleotide_seq, length)\n",
    "                VALUES('ECO \"\"\"+eco_gene+\"', 'encodes enzyme \"+x+\" in E. Coli'\"+', \\''+str(eco_seq)+'\\', '+str(len(eco_seq))+');')\n",
    "              \n",
    "              \n",
    "    for y in range(len(record_enz.genes)):\n",
    "        if record_enz.genes[y][0]=='HSA':\n",
    "            hsa_gene=record_enz.genes[y][1][0]\n",
    "            break\n",
    "    c.execute(\"\"\"INSERT INTO enzyme (name, EC, function, pathway, organism, gene)\n",
    "                VALUES (\\'\"\"\"+record_enz.name[0]+'\\', '+x1+', \\''+str(record_enz.reaction[0])+'\\', \\''+record_enz.pathway[0][2]+\"\\', 'Homo Sapiens', \\'\"+hsa_gene+'\\');')\n",
    "\n",
    "    Entrez.email='neilwang@berkeley.edu'\n",
    "    handle=Entrez.esearch(db='nucleotide',term='Homo sapiens[ORGN] '+hsa_gene,sort='relevance',idtype='acc')\n",
    "    for i in Entrez.read(handle)['IdList']:\n",
    "            handle=Entrez.efetch(db='nucleotide',id=i, rettype='fasta',retmode='text')\n",
    "            break\n",
    "    for record in SeqIO.parse(handle,'fasta'):\n",
    "        hsa_seq=record.seq\n",
    "    c.execute(\"\"\"INSERT INTO genes(name, description, nucleotide_seq, length)\n",
    "                VALUES('HSA \"\"\"+hsa_gene+\"', 'encodes enzyme \"+x+\" in H. Sapiens'\"+', \\''+str(hsa_seq)+'\\', '+str(len(hsa_seq))+');')\n",
    "               \n",
    "              \n",
    "    for y in range(len(record_enz.genes)):\n",
    "        if record_enz.genes[y][0]=='DME':\n",
    "            dme_gene=record_enz.genes[y][1][0]\n",
    "            break\n",
    "    c.execute(\"\"\"INSERT INTO enzyme (name, EC, function, pathway, organism, gene)\n",
    "                VALUES (\\'\"\"\"+record_enz.name[0]+'\\', '+x1+', \\''+str(record_enz.reaction[0])+'\\', \\''+record_enz.pathway[0][2]+\"\\', 'Drosophila melanogaster', \\'\"+dme_gene+'\\');')\n",
    "\n",
    "    Entrez.email='neilwang@berkeley.edu'\n",
    "    handle=Entrez.esearch(db='nucleotide',term='Drosophila Melanogaster[ORGN] '+dme_gene,sort='relevance',idtype='acc')\n",
    "    for i in Entrez.read(handle)['IdList']:\n",
    "            handle=Entrez.efetch(db='nucleotide',id=i, rettype='fasta',retmode='text')\n",
    "            break\n",
    "    for record in SeqIO.parse(handle,'fasta'):\n",
    "        dme_seq=record.seq\n",
    "    c.execute(\"\"\"INSERT INTO genes(name, description, nucleotide_seq, length)\n",
    "                VALUES('DME \"\"\"+dme_gene+\"', 'encodes enzyme \"+x+\" in D. Melanogaster'\"+', \\''+str(dme_seq)+'\\', '+str(len(dme_seq))+');')\n",
    "conn.commit()"
   ]
  },
  {
   "cell_type": "code",
   "execution_count": null,
   "metadata": {},
   "outputs": [],
   "source": []
  },
  {
   "cell_type": "code",
   "execution_count": null,
   "metadata": {},
   "outputs": [],
   "source": []
  },
  {
   "cell_type": "code",
   "execution_count": null,
   "metadata": {},
   "outputs": [],
   "source": []
  }
 ],
 "metadata": {
  "kernelspec": {
   "display_name": "Python 3",
   "language": "python",
   "name": "python3"
  },
  "language_info": {
   "codemirror_mode": {
    "name": "ipython",
    "version": 3
   },
   "file_extension": ".py",
   "mimetype": "text/x-python",
   "name": "python",
   "nbconvert_exporter": "python",
   "pygments_lexer": "ipython3",
   "version": "3.6.5"
  }
 },
 "nbformat": 4,
 "nbformat_minor": 2
}
